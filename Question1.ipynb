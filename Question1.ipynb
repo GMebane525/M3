{
 "cells": [
  {
   "cell_type": "code",
   "execution_count": 260,
   "id": "initial_id",
   "metadata": {
    "collapsed": true,
    "ExecuteTime": {
     "end_time": "2024-03-04T19:11:55.793800100Z",
     "start_time": "2024-03-04T19:11:55.746911700Z"
    }
   },
   "outputs": [],
   "source": [
    "import pandas as pd\n",
    "import numpy as np\n"
   ]
  },
  {
   "cell_type": "code",
   "execution_count": 261,
   "outputs": [],
   "source": [
    "#Import Excel data for each city\n",
    "\n",
    "Albequerque = pd.read_csv('Albequerque.csv')\n",
    "\n",
    "Seattle = pd.read_csv('Seattle.csv')"
   ],
   "metadata": {
    "collapsed": false,
    "ExecuteTime": {
     "end_time": "2024-03-04T19:11:55.872341900Z",
     "start_time": "2024-03-04T19:11:55.762544600Z"
    }
   },
   "id": "e4f99d34fde8f43c"
  },
  {
   "cell_type": "code",
   "execution_count": 262,
   "outputs": [
    {
     "data": {
      "text/plain": "    Year  Total_housing_units\n0    2010             234,891\n1    2011             237,735\n2    2012             239,718\n3    2013             240,277\n4    2014             240,961\n5    2015             241,326\n6    2016             242,070\n7    2017             243,402\n8    2018             244,382\n9    2019             245,476\n10   2020             247,926\n11   2021             252,924\n12   2022             255,178",
      "text/html": "<div>\n<style scoped>\n    .dataframe tbody tr th:only-of-type {\n        vertical-align: middle;\n    }\n\n    .dataframe tbody tr th {\n        vertical-align: top;\n    }\n\n    .dataframe thead th {\n        text-align: right;\n    }\n</style>\n<table border=\"1\" class=\"dataframe\">\n  <thead>\n    <tr style=\"text-align: right;\">\n      <th></th>\n      <th>Year</th>\n      <th>Total_housing_units</th>\n    </tr>\n  </thead>\n  <tbody>\n    <tr>\n      <th>0</th>\n      <td>2010</td>\n      <td>234,891</td>\n    </tr>\n    <tr>\n      <th>1</th>\n      <td>2011</td>\n      <td>237,735</td>\n    </tr>\n    <tr>\n      <th>2</th>\n      <td>2012</td>\n      <td>239,718</td>\n    </tr>\n    <tr>\n      <th>3</th>\n      <td>2013</td>\n      <td>240,277</td>\n    </tr>\n    <tr>\n      <th>4</th>\n      <td>2014</td>\n      <td>240,961</td>\n    </tr>\n    <tr>\n      <th>5</th>\n      <td>2015</td>\n      <td>241,326</td>\n    </tr>\n    <tr>\n      <th>6</th>\n      <td>2016</td>\n      <td>242,070</td>\n    </tr>\n    <tr>\n      <th>7</th>\n      <td>2017</td>\n      <td>243,402</td>\n    </tr>\n    <tr>\n      <th>8</th>\n      <td>2018</td>\n      <td>244,382</td>\n    </tr>\n    <tr>\n      <th>9</th>\n      <td>2019</td>\n      <td>245,476</td>\n    </tr>\n    <tr>\n      <th>10</th>\n      <td>2020</td>\n      <td>247,926</td>\n    </tr>\n    <tr>\n      <th>11</th>\n      <td>2021</td>\n      <td>252,924</td>\n    </tr>\n    <tr>\n      <th>12</th>\n      <td>2022</td>\n      <td>255,178</td>\n    </tr>\n  </tbody>\n</table>\n</div>"
     },
     "execution_count": 262,
     "metadata": {},
     "output_type": "execute_result"
    }
   ],
   "source": [
    "#print data for reference \n",
    "Albequerque"
   ],
   "metadata": {
    "collapsed": false,
    "ExecuteTime": {
     "end_time": "2024-03-04T19:11:55.872341900Z",
     "start_time": "2024-03-04T19:11:55.793800100Z"
    }
   },
   "id": "d4df12c8f4afa7b8"
  },
  {
   "cell_type": "code",
   "execution_count": 263,
   "outputs": [
    {
     "data": {
      "text/plain": "    Year  Total_housing_units\n0    2010             302,465\n1    2011             304,164\n2    2012             306,694\n3    2013             309,205\n4    2014             311,286\n5    2015             315,950\n6    2016             322,795\n7    2017             334,739\n8    2018             344,503\n9    2019             354,475\n10   2020             367,337\n11   2021             362,809\n12   2022             372,436",
      "text/html": "<div>\n<style scoped>\n    .dataframe tbody tr th:only-of-type {\n        vertical-align: middle;\n    }\n\n    .dataframe tbody tr th {\n        vertical-align: top;\n    }\n\n    .dataframe thead th {\n        text-align: right;\n    }\n</style>\n<table border=\"1\" class=\"dataframe\">\n  <thead>\n    <tr style=\"text-align: right;\">\n      <th></th>\n      <th>Year</th>\n      <th>Total_housing_units</th>\n    </tr>\n  </thead>\n  <tbody>\n    <tr>\n      <th>0</th>\n      <td>2010</td>\n      <td>302,465</td>\n    </tr>\n    <tr>\n      <th>1</th>\n      <td>2011</td>\n      <td>304,164</td>\n    </tr>\n    <tr>\n      <th>2</th>\n      <td>2012</td>\n      <td>306,694</td>\n    </tr>\n    <tr>\n      <th>3</th>\n      <td>2013</td>\n      <td>309,205</td>\n    </tr>\n    <tr>\n      <th>4</th>\n      <td>2014</td>\n      <td>311,286</td>\n    </tr>\n    <tr>\n      <th>5</th>\n      <td>2015</td>\n      <td>315,950</td>\n    </tr>\n    <tr>\n      <th>6</th>\n      <td>2016</td>\n      <td>322,795</td>\n    </tr>\n    <tr>\n      <th>7</th>\n      <td>2017</td>\n      <td>334,739</td>\n    </tr>\n    <tr>\n      <th>8</th>\n      <td>2018</td>\n      <td>344,503</td>\n    </tr>\n    <tr>\n      <th>9</th>\n      <td>2019</td>\n      <td>354,475</td>\n    </tr>\n    <tr>\n      <th>10</th>\n      <td>2020</td>\n      <td>367,337</td>\n    </tr>\n    <tr>\n      <th>11</th>\n      <td>2021</td>\n      <td>362,809</td>\n    </tr>\n    <tr>\n      <th>12</th>\n      <td>2022</td>\n      <td>372,436</td>\n    </tr>\n  </tbody>\n</table>\n</div>"
     },
     "execution_count": 263,
     "metadata": {},
     "output_type": "execute_result"
    }
   ],
   "source": [
    "#print data for reference \n",
    "Seattle"
   ],
   "metadata": {
    "collapsed": false,
    "ExecuteTime": {
     "end_time": "2024-03-04T19:11:55.872341900Z",
     "start_time": "2024-03-04T19:11:55.813931400Z"
    }
   },
   "id": "5fb04e96bd6cfce8"
  },
  {
   "cell_type": "code",
   "execution_count": 264,
   "outputs": [
    {
     "data": {
      "text/plain": "((9,), (4,), (9,), (4,))"
     },
     "execution_count": 264,
     "metadata": {},
     "output_type": "execute_result"
    }
   ],
   "source": [
    "#Set up data for Albequerque\n",
    "\n",
    "from sklearn.model_selection  import train_test_split\n",
    "x = Albequerque[\"Year \"]\n",
    "# independent variable\n",
    "# independent variable\n",
    "y = Albequerque[\"Total_housing_units\"]\n",
    "# removes two data points at random to use as a test set for the model\n",
    "x_year_train,x_year_test,y_Total_housing_units_train,y_Total_housing_units_test = (train_test_split(x,y,random_state=0,test_size=0.3))\n",
    "x_year_train.shape, x_year_test.shape, y_Total_housing_units_train.shape, y_Total_housing_units_test.shape"
   ],
   "metadata": {
    "collapsed": false,
    "ExecuteTime": {
     "end_time": "2024-03-04T19:11:55.872341900Z",
     "start_time": "2024-03-04T19:11:55.825447300Z"
    }
   },
   "id": "3b3232ba86d90e3f"
  },
  {
   "cell_type": "code",
   "execution_count": 265,
   "outputs": [
    {
     "data": {
      "text/plain": "((9,), (4,), (9,), (4,))"
     },
     "execution_count": 265,
     "metadata": {},
     "output_type": "execute_result"
    }
   ],
   "source": [
    "#Set up data for Seattle\n",
    "\n",
    "from sklearn.model_selection  import train_test_split\n",
    "sx = Seattle[\"Year \"]\n",
    "# independent variable\n",
    "# independent variable\n",
    "sy = Seattle[\"Total_housing_units\"]\n",
    "# removes two data points at random to use as a test set for the model\n",
    "sx_year_train,sx_year_test,sy_Total_housing_units_train,sy_Total_housing_units_test = (train_test_split(sx,sy,random_state=0,test_size=0.3))\n",
    "sx_year_train.shape, sx_year_test.shape, sy_Total_housing_units_train.shape, sy_Total_housing_units_test.shape"
   ],
   "metadata": {
    "collapsed": false,
    "ExecuteTime": {
     "end_time": "2024-03-04T19:11:55.872341900Z",
     "start_time": "2024-03-04T19:11:55.841089700Z"
    }
   },
   "id": "f2c2c3ef1c19048a"
  },
  {
   "cell_type": "code",
   "execution_count": 266,
   "outputs": [],
   "source": [
    "#clean/filter data before making model \n",
    "\n",
    "import string\n",
    "def remove_punctuation(text):\n",
    "    # Create a translation table that maps each punctuation character to None\n",
    "    translator = str.maketrans('', '', string.punctuation)\n",
    "    # Use translate method to remove punctuation characters\n",
    "    cleaned_text = text.translate(translator)\n",
    "    return cleaned_text\n",
    "\n",
    "y_Total_housing_units_train = y_Total_housing_units_train.apply(remove_punctuation).astype(int)\n",
    "y_Total_housing_units_test = y_Total_housing_units_test.apply(remove_punctuation).astype(int)\n",
    "x_year_train = x_year_train.astype(int)\n",
    "x_year_test = x_year_test.astype(int)\n",
    "sy_Total_housing_units_train = sy_Total_housing_units_train.apply(remove_punctuation).astype(int)\n",
    "sy_Total_housing_units_test = sy_Total_housing_units_test.apply(remove_punctuation).astype(int)\n",
    "sx_year_train = sx_year_train.astype(int)\n",
    "sx_year_test = sx_year_test.astype(int)"
   ],
   "metadata": {
    "collapsed": false,
    "ExecuteTime": {
     "end_time": "2024-03-04T19:11:55.872341900Z",
     "start_time": "2024-03-04T19:11:55.856752300Z"
    }
   },
   "id": "3b55cd2d91f3209c"
  },
  {
   "cell_type": "code",
   "execution_count": 267,
   "outputs": [
    {
     "name": "stdout",
     "output_type": "stream",
     "text": [
      "[0.00553793 1.2382865 ]\n",
      "[ 1.84298991e-02 -2.44446837e+01]\n"
     ]
    }
   ],
   "source": [
    "#feed data into models\n",
    "model = np.polyfit(x_year_train, np.log(y_Total_housing_units_train), 1)\n",
    "print(model)\n",
    "\n",
    "smodel = np.polyfit(sx_year_train, np.log(sy_Total_housing_units_train), 1)\n",
    "print(smodel)"
   ],
   "metadata": {
    "collapsed": false,
    "ExecuteTime": {
     "end_time": "2024-03-04T19:11:55.903593500Z",
     "start_time": "2024-03-04T19:11:55.872341900Z"
    }
   },
   "id": "482caba82cd6724"
  },
  {
   "cell_type": "code",
   "execution_count": 268,
   "outputs": [
    {
     "name": "stdout",
     "output_type": "stream",
     "text": [
      "6     331039.444177\n",
      "11    362994.263208\n",
      "4     319059.541820\n",
      "10    356365.586125\n",
      "Name: Year , dtype: float64\n",
      "6     2016\n",
      "11    2021\n",
      "4     2014\n",
      "10    2020\n",
      "Name: Year , dtype: int32\n"
     ]
    }
   ],
   "source": [
    "#make into equations\n",
    "def equation (model, x):\n",
    "    return np.exp(model[1]+ model[0]*x)\n",
    "y_Total_housing_units_predicted=equation(model, x_year_test)\n",
    "\n",
    "def sequation (smodel, sx):\n",
    "    return np.exp(smodel[1]+ smodel[0]*sx)\n",
    "sy_Total_housing_units_predicted=sequation(smodel, sx_year_test)\n",
    "print(sy_Total_housing_units_predicted)\n",
    "print(sx_year_test)"
   ],
   "metadata": {
    "collapsed": false,
    "ExecuteTime": {
     "end_time": "2024-03-04T19:11:55.997812900Z",
     "start_time": "2024-03-04T19:11:55.887976500Z"
    }
   },
   "id": "ac83f582e2b025c5"
  },
  {
   "cell_type": "code",
   "execution_count": 269,
   "outputs": [
    {
     "name": "stdout",
     "output_type": "stream",
     "text": [
      "The model for Albequerque was \n",
      "100.0303056938273\n",
      "% accurate\n",
      "\n",
      "The model for Seattle was \n",
      "99.47109119035606\n",
      "% accurate\n"
     ]
    }
   ],
   "source": [
    "#Percent Accuracies \n",
    "sum_series = (y_Total_housing_units_predicted - y_Total_housing_units_test) / y_Total_housing_units_test\n",
    "\n",
    "sum_of_elements = sum_series.sum()\n",
    "score = 100 - sum_of_elements/len(sum_series) *100\n",
    "\n",
    "ssum_series = (sy_Total_housing_units_predicted - sy_Total_housing_units_test) / sy_Total_housing_units_test\n",
    "\n",
    "ssum_of_elements = ssum_series.sum()\n",
    "sscore = 100 - ssum_of_elements/len(ssum_series) *100\n",
    "\n",
    "print(\"The model for Albequerque was \")\n",
    "print(score) \n",
    "print(\"% accurate\")  \n",
    "print(\"\")\n",
    "print(\"The model for Seattle was \")\n",
    "print(sscore) \n",
    "print(\"% accurate\") "
   ],
   "metadata": {
    "collapsed": false,
    "ExecuteTime": {
     "end_time": "2024-03-04T19:11:56.060765600Z",
     "start_time": "2024-03-04T19:11:55.903593500Z"
    }
   },
   "id": "c58ca70241e2ce87"
  },
  {
   "cell_type": "code",
   "execution_count": 270,
   "outputs": [],
   "source": [
    "#Finally, lets find our predicted values for 10, 20, 50 years in the future\n",
    "\n",
    "Future = pd.read_csv('Years.csv')\n",
    "\n",
    "Predicted_Albaquerque = equation(model, Future)\n",
    "\n",
    "Predicted_Seattle = sequation(smodel, Future)"
   ],
   "metadata": {
    "collapsed": false,
    "ExecuteTime": {
     "end_time": "2024-03-04T19:11:56.155339200Z",
     "start_time": "2024-03-04T19:11:55.919647900Z"
    }
   },
   "id": "8940f98a47101cf1"
  },
  {
   "cell_type": "code",
   "execution_count": 271,
   "outputs": [
    {
     "name": "stdout",
     "output_type": "stream",
     "text": [
      "           Year \n",
      "0  268993.976997\n",
      "1  284310.891856\n",
      "2  335696.121089\n",
      "Where 0 is 10 years, 1 is 20 years, and 2 is 50 years\n"
     ]
    }
   ],
   "source": [
    "print(Predicted_Albaquerque)\n",
    "print(\"Where 0 is 10 years, 1 is 20 years, and 2 is 50 years\")"
   ],
   "metadata": {
    "collapsed": false,
    "ExecuteTime": {
     "end_time": "2024-03-04T19:11:56.171008200Z",
     "start_time": "2024-03-04T19:11:55.935326200Z"
    }
   },
   "id": "e0c3a1221f62838"
  },
  {
   "cell_type": "code",
   "execution_count": 272,
   "outputs": [
    {
     "name": "stdout",
     "output_type": "stream",
     "text": [
      "           Year \n",
      "0  461266.385189\n",
      "1  554615.293667\n",
      "2  964077.495426\n",
      "Where 0 is 10 years, 1 is 20 years, and 2 is 50 years\n"
     ]
    }
   ],
   "source": [
    "print(Predicted_Seattle)\n",
    "print(\"Where 0 is 10 years, 1 is 20 years, and 2 is 50 years\")"
   ],
   "metadata": {
    "collapsed": false,
    "ExecuteTime": {
     "end_time": "2024-03-04T19:11:56.171008200Z",
     "start_time": "2024-03-04T19:11:55.950951700Z"
    }
   },
   "id": "116a1977a516c09b"
  }
 ],
 "metadata": {
  "kernelspec": {
   "display_name": "Python 3",
   "language": "python",
   "name": "python3"
  },
  "language_info": {
   "codemirror_mode": {
    "name": "ipython",
    "version": 2
   },
   "file_extension": ".py",
   "mimetype": "text/x-python",
   "name": "python",
   "nbconvert_exporter": "python",
   "pygments_lexer": "ipython2",
   "version": "2.7.6"
  }
 },
 "nbformat": 4,
 "nbformat_minor": 5
}
